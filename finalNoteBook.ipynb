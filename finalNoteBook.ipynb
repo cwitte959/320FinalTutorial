{
 "cells": [
  {
   "cell_type": "markdown",
   "id": "focused-benefit",
   "metadata": {},
   "source": [
    "# How Has The Game Changed in Professional Basketaball?"
   ]
  },
  {
   "cell_type": "markdown",
   "id": "atmospheric-triangle",
   "metadata": {},
   "source": [
    "Ethan Jaffee, Christopher Witte, Ashwin Rajan"
   ]
  },
  {
   "cell_type": "markdown",
   "id": "entire-columbus",
   "metadata": {},
   "source": [
    "# Part 1: Intro"
   ]
  },
  {
   "cell_type": "markdown",
   "id": "metric-evanescence",
   "metadata": {},
   "source": [
    "### Section 1.1: Project Intro\n",
    "In our final tutorial we will be analyzing data from NBA games between 2004 and 2021 to see how the sport has changed and will apply knowledge we gained in CMSC320 to gain a deeper insight into how professional basketball has evolved between the early 2000s and now."
   ]
  },
  {
   "cell_type": "markdown",
   "id": "domestic-rider",
   "metadata": {},
   "source": [
    "### Section 1.2: Background Info\n",
    "\n",
    "The NBA, the National Basketball Association, is the world’s foremost professional basketball league and features some of the world's greatest athletes. Like other sports the NBA has undergone a statistical revolution, in which coaches and players have begun analyzing the sport using statistics in an attempt to improve and make the game more efficient. If you are interested in the specifics of this we recommend you read this article https://qz.com/1104922/data-analytics-have-revolutionized-the-nba/ . By looking at the outcomes of games over the years we hope to be able to see how this change has affected the game and what specific aspects of the game have been changed. \n",
    "\n"
   ]
  },
  {
   "cell_type": "markdown",
   "id": "internal-surveillance",
   "metadata": {},
   "source": [
    "### Section 1.3: Libraries"
   ]
  },
  {
   "cell_type": "code",
   "execution_count": 6,
   "id": "numerous-filename",
   "metadata": {},
   "outputs": [],
   "source": [
    "import pandas as pd\n",
    "import matplotlib.pyplot as plt"
   ]
  },
  {
   "cell_type": "markdown",
   "id": "peaceful-ghost",
   "metadata": {},
   "source": [
    "# Part 2: The Data"
   ]
  },
  {
   "cell_type": "markdown",
   "id": "homeless-serum",
   "metadata": {},
   "source": [
    "### Section 2.1: What is our data?\n",
    "Our data is the outcome of every game starting in the 2004 season until now. It includes data such as the score from each team and the FG% (Shots taken over shots made), 3FG%(Three point shots taken over three point shots made), and FT% (Free throws made over free throws taken). We go this dataset from Kaggel, the link to the data is https://www.kaggle.com/nathanlauga/nba-games?select=games.csv if you would like to download it for yourself. We will be looking at the games.csv file because we feel it best gives us the information we need to answer our questions, but there are some other interesting files if you want to do your own projects!  "
   ]
  },
  {
   "cell_type": "markdown",
   "id": "diagnostic-effort",
   "metadata": {},
   "source": [
    "### Section 2.1: Getting started!\n",
    "\n",
    "The first thing we will do is take our csv and load it into a pandas dataframe, luckily pandas has a built in method to help us do that!"
   ]
  },
  {
   "cell_type": "code",
   "execution_count": 7,
   "id": "insured-clarity",
   "metadata": {},
   "outputs": [
    {
     "data": {
      "text/html": [
       "<div>\n",
       "<style scoped>\n",
       "    .dataframe tbody tr th:only-of-type {\n",
       "        vertical-align: middle;\n",
       "    }\n",
       "\n",
       "    .dataframe tbody tr th {\n",
       "        vertical-align: top;\n",
       "    }\n",
       "\n",
       "    .dataframe thead th {\n",
       "        text-align: right;\n",
       "    }\n",
       "</style>\n",
       "<table border=\"1\" class=\"dataframe\">\n",
       "  <thead>\n",
       "    <tr style=\"text-align: right;\">\n",
       "      <th></th>\n",
       "      <th>GAME_DATE_EST</th>\n",
       "      <th>GAME_ID</th>\n",
       "      <th>GAME_STATUS_TEXT</th>\n",
       "      <th>HOME_TEAM_ID</th>\n",
       "      <th>VISITOR_TEAM_ID</th>\n",
       "      <th>SEASON</th>\n",
       "      <th>TEAM_ID_home</th>\n",
       "      <th>PTS_home</th>\n",
       "      <th>FG_PCT_home</th>\n",
       "      <th>FT_PCT_home</th>\n",
       "      <th>...</th>\n",
       "      <th>AST_home</th>\n",
       "      <th>REB_home</th>\n",
       "      <th>TEAM_ID_away</th>\n",
       "      <th>PTS_away</th>\n",
       "      <th>FG_PCT_away</th>\n",
       "      <th>FT_PCT_away</th>\n",
       "      <th>FG3_PCT_away</th>\n",
       "      <th>AST_away</th>\n",
       "      <th>REB_away</th>\n",
       "      <th>HOME_TEAM_WINS</th>\n",
       "    </tr>\n",
       "  </thead>\n",
       "  <tbody>\n",
       "    <tr>\n",
       "      <th>0</th>\n",
       "      <td>2021-11-17</td>\n",
       "      <td>22100213</td>\n",
       "      <td>Final</td>\n",
       "      <td>1610612766</td>\n",
       "      <td>1610612764</td>\n",
       "      <td>2021</td>\n",
       "      <td>1610612766</td>\n",
       "      <td>97.0</td>\n",
       "      <td>0.438</td>\n",
       "      <td>0.500</td>\n",
       "      <td>...</td>\n",
       "      <td>30.0</td>\n",
       "      <td>59.0</td>\n",
       "      <td>1610612764</td>\n",
       "      <td>87.0</td>\n",
       "      <td>0.367</td>\n",
       "      <td>0.813</td>\n",
       "      <td>0.190</td>\n",
       "      <td>23.0</td>\n",
       "      <td>48.0</td>\n",
       "      <td>1</td>\n",
       "    </tr>\n",
       "    <tr>\n",
       "      <th>1</th>\n",
       "      <td>2021-11-17</td>\n",
       "      <td>22100214</td>\n",
       "      <td>Final</td>\n",
       "      <td>1610612765</td>\n",
       "      <td>1610612754</td>\n",
       "      <td>2021</td>\n",
       "      <td>1610612765</td>\n",
       "      <td>97.0</td>\n",
       "      <td>0.425</td>\n",
       "      <td>0.750</td>\n",
       "      <td>...</td>\n",
       "      <td>16.0</td>\n",
       "      <td>42.0</td>\n",
       "      <td>1610612754</td>\n",
       "      <td>89.0</td>\n",
       "      <td>0.418</td>\n",
       "      <td>0.737</td>\n",
       "      <td>0.243</td>\n",
       "      <td>14.0</td>\n",
       "      <td>43.0</td>\n",
       "      <td>1</td>\n",
       "    </tr>\n",
       "    <tr>\n",
       "      <th>2</th>\n",
       "      <td>2021-11-17</td>\n",
       "      <td>22100215</td>\n",
       "      <td>Final</td>\n",
       "      <td>1610612737</td>\n",
       "      <td>1610612738</td>\n",
       "      <td>2021</td>\n",
       "      <td>1610612737</td>\n",
       "      <td>110.0</td>\n",
       "      <td>0.506</td>\n",
       "      <td>0.833</td>\n",
       "      <td>...</td>\n",
       "      <td>28.0</td>\n",
       "      <td>40.0</td>\n",
       "      <td>1610612738</td>\n",
       "      <td>99.0</td>\n",
       "      <td>0.440</td>\n",
       "      <td>0.824</td>\n",
       "      <td>0.268</td>\n",
       "      <td>24.0</td>\n",
       "      <td>42.0</td>\n",
       "      <td>1</td>\n",
       "    </tr>\n",
       "    <tr>\n",
       "      <th>3</th>\n",
       "      <td>2021-11-17</td>\n",
       "      <td>22100216</td>\n",
       "      <td>Final</td>\n",
       "      <td>1610612751</td>\n",
       "      <td>1610612739</td>\n",
       "      <td>2021</td>\n",
       "      <td>1610612751</td>\n",
       "      <td>109.0</td>\n",
       "      <td>0.458</td>\n",
       "      <td>0.840</td>\n",
       "      <td>...</td>\n",
       "      <td>29.0</td>\n",
       "      <td>47.0</td>\n",
       "      <td>1610612739</td>\n",
       "      <td>99.0</td>\n",
       "      <td>0.393</td>\n",
       "      <td>0.857</td>\n",
       "      <td>0.250</td>\n",
       "      <td>20.0</td>\n",
       "      <td>50.0</td>\n",
       "      <td>1</td>\n",
       "    </tr>\n",
       "    <tr>\n",
       "      <th>4</th>\n",
       "      <td>2021-11-17</td>\n",
       "      <td>22100217</td>\n",
       "      <td>Final</td>\n",
       "      <td>1610612748</td>\n",
       "      <td>1610612740</td>\n",
       "      <td>2021</td>\n",
       "      <td>1610612748</td>\n",
       "      <td>113.0</td>\n",
       "      <td>0.483</td>\n",
       "      <td>0.824</td>\n",
       "      <td>...</td>\n",
       "      <td>29.0</td>\n",
       "      <td>39.0</td>\n",
       "      <td>1610612740</td>\n",
       "      <td>98.0</td>\n",
       "      <td>0.440</td>\n",
       "      <td>0.786</td>\n",
       "      <td>0.286</td>\n",
       "      <td>18.0</td>\n",
       "      <td>38.0</td>\n",
       "      <td>1</td>\n",
       "    </tr>\n",
       "  </tbody>\n",
       "</table>\n",
       "<p>5 rows × 21 columns</p>\n",
       "</div>"
      ],
      "text/plain": [
       "  GAME_DATE_EST   GAME_ID GAME_STATUS_TEXT  HOME_TEAM_ID  VISITOR_TEAM_ID  \\\n",
       "0    2021-11-17  22100213            Final    1610612766       1610612764   \n",
       "1    2021-11-17  22100214            Final    1610612765       1610612754   \n",
       "2    2021-11-17  22100215            Final    1610612737       1610612738   \n",
       "3    2021-11-17  22100216            Final    1610612751       1610612739   \n",
       "4    2021-11-17  22100217            Final    1610612748       1610612740   \n",
       "\n",
       "   SEASON  TEAM_ID_home  PTS_home  FG_PCT_home  FT_PCT_home  ...  AST_home  \\\n",
       "0    2021    1610612766      97.0        0.438        0.500  ...      30.0   \n",
       "1    2021    1610612765      97.0        0.425        0.750  ...      16.0   \n",
       "2    2021    1610612737     110.0        0.506        0.833  ...      28.0   \n",
       "3    2021    1610612751     109.0        0.458        0.840  ...      29.0   \n",
       "4    2021    1610612748     113.0        0.483        0.824  ...      29.0   \n",
       "\n",
       "   REB_home  TEAM_ID_away  PTS_away  FG_PCT_away  FT_PCT_away  FG3_PCT_away  \\\n",
       "0      59.0    1610612764      87.0        0.367        0.813         0.190   \n",
       "1      42.0    1610612754      89.0        0.418        0.737         0.243   \n",
       "2      40.0    1610612738      99.0        0.440        0.824         0.268   \n",
       "3      47.0    1610612739      99.0        0.393        0.857         0.250   \n",
       "4      39.0    1610612740      98.0        0.440        0.786         0.286   \n",
       "\n",
       "   AST_away  REB_away  HOME_TEAM_WINS  \n",
       "0      23.0      48.0               1  \n",
       "1      14.0      43.0               1  \n",
       "2      24.0      42.0               1  \n",
       "3      20.0      50.0               1  \n",
       "4      18.0      38.0               1  \n",
       "\n",
       "[5 rows x 21 columns]"
      ]
     },
     "execution_count": 7,
     "metadata": {},
     "output_type": "execute_result"
    }
   ],
   "source": [
    "df = pd.read_csv(\"games.csv\")\n",
    "df.head()"
   ]
  },
  {
   "cell_type": "markdown",
   "id": "black-correlation",
   "metadata": {},
   "source": [
    "Next we are going to add some columns to help with our analysis later. We are going to combine the home and away score for each game to have the total score for each game. We will also add a column that has just the year the game is played.\n"
   ]
  },
  {
   "cell_type": "code",
   "execution_count": 8,
   "id": "starting-tucson",
   "metadata": {},
   "outputs": [
    {
     "data": {
      "text/html": [
       "<div>\n",
       "<style scoped>\n",
       "    .dataframe tbody tr th:only-of-type {\n",
       "        vertical-align: middle;\n",
       "    }\n",
       "\n",
       "    .dataframe tbody tr th {\n",
       "        vertical-align: top;\n",
       "    }\n",
       "\n",
       "    .dataframe thead th {\n",
       "        text-align: right;\n",
       "    }\n",
       "</style>\n",
       "<table border=\"1\" class=\"dataframe\">\n",
       "  <thead>\n",
       "    <tr style=\"text-align: right;\">\n",
       "      <th></th>\n",
       "      <th>GAME_DATE_EST</th>\n",
       "      <th>GAME_ID</th>\n",
       "      <th>GAME_STATUS_TEXT</th>\n",
       "      <th>HOME_TEAM_ID</th>\n",
       "      <th>VISITOR_TEAM_ID</th>\n",
       "      <th>SEASON</th>\n",
       "      <th>TEAM_ID_home</th>\n",
       "      <th>PTS_home</th>\n",
       "      <th>FG_PCT_home</th>\n",
       "      <th>FT_PCT_home</th>\n",
       "      <th>...</th>\n",
       "      <th>TEAM_ID_away</th>\n",
       "      <th>PTS_away</th>\n",
       "      <th>FG_PCT_away</th>\n",
       "      <th>FT_PCT_away</th>\n",
       "      <th>FG3_PCT_away</th>\n",
       "      <th>AST_away</th>\n",
       "      <th>REB_away</th>\n",
       "      <th>HOME_TEAM_WINS</th>\n",
       "      <th>total_score</th>\n",
       "      <th>year</th>\n",
       "    </tr>\n",
       "  </thead>\n",
       "  <tbody>\n",
       "    <tr>\n",
       "      <th>0</th>\n",
       "      <td>2021-11-17</td>\n",
       "      <td>22100213</td>\n",
       "      <td>Final</td>\n",
       "      <td>1610612766</td>\n",
       "      <td>1610612764</td>\n",
       "      <td>2021</td>\n",
       "      <td>1610612766</td>\n",
       "      <td>97.0</td>\n",
       "      <td>0.438</td>\n",
       "      <td>0.500</td>\n",
       "      <td>...</td>\n",
       "      <td>1610612764</td>\n",
       "      <td>87.0</td>\n",
       "      <td>0.367</td>\n",
       "      <td>0.813</td>\n",
       "      <td>0.190</td>\n",
       "      <td>23.0</td>\n",
       "      <td>48.0</td>\n",
       "      <td>1</td>\n",
       "      <td>184.0</td>\n",
       "      <td>2021</td>\n",
       "    </tr>\n",
       "    <tr>\n",
       "      <th>1</th>\n",
       "      <td>2021-11-17</td>\n",
       "      <td>22100214</td>\n",
       "      <td>Final</td>\n",
       "      <td>1610612765</td>\n",
       "      <td>1610612754</td>\n",
       "      <td>2021</td>\n",
       "      <td>1610612765</td>\n",
       "      <td>97.0</td>\n",
       "      <td>0.425</td>\n",
       "      <td>0.750</td>\n",
       "      <td>...</td>\n",
       "      <td>1610612754</td>\n",
       "      <td>89.0</td>\n",
       "      <td>0.418</td>\n",
       "      <td>0.737</td>\n",
       "      <td>0.243</td>\n",
       "      <td>14.0</td>\n",
       "      <td>43.0</td>\n",
       "      <td>1</td>\n",
       "      <td>186.0</td>\n",
       "      <td>2021</td>\n",
       "    </tr>\n",
       "    <tr>\n",
       "      <th>2</th>\n",
       "      <td>2021-11-17</td>\n",
       "      <td>22100215</td>\n",
       "      <td>Final</td>\n",
       "      <td>1610612737</td>\n",
       "      <td>1610612738</td>\n",
       "      <td>2021</td>\n",
       "      <td>1610612737</td>\n",
       "      <td>110.0</td>\n",
       "      <td>0.506</td>\n",
       "      <td>0.833</td>\n",
       "      <td>...</td>\n",
       "      <td>1610612738</td>\n",
       "      <td>99.0</td>\n",
       "      <td>0.440</td>\n",
       "      <td>0.824</td>\n",
       "      <td>0.268</td>\n",
       "      <td>24.0</td>\n",
       "      <td>42.0</td>\n",
       "      <td>1</td>\n",
       "      <td>209.0</td>\n",
       "      <td>2021</td>\n",
       "    </tr>\n",
       "    <tr>\n",
       "      <th>3</th>\n",
       "      <td>2021-11-17</td>\n",
       "      <td>22100216</td>\n",
       "      <td>Final</td>\n",
       "      <td>1610612751</td>\n",
       "      <td>1610612739</td>\n",
       "      <td>2021</td>\n",
       "      <td>1610612751</td>\n",
       "      <td>109.0</td>\n",
       "      <td>0.458</td>\n",
       "      <td>0.840</td>\n",
       "      <td>...</td>\n",
       "      <td>1610612739</td>\n",
       "      <td>99.0</td>\n",
       "      <td>0.393</td>\n",
       "      <td>0.857</td>\n",
       "      <td>0.250</td>\n",
       "      <td>20.0</td>\n",
       "      <td>50.0</td>\n",
       "      <td>1</td>\n",
       "      <td>208.0</td>\n",
       "      <td>2021</td>\n",
       "    </tr>\n",
       "    <tr>\n",
       "      <th>4</th>\n",
       "      <td>2021-11-17</td>\n",
       "      <td>22100217</td>\n",
       "      <td>Final</td>\n",
       "      <td>1610612748</td>\n",
       "      <td>1610612740</td>\n",
       "      <td>2021</td>\n",
       "      <td>1610612748</td>\n",
       "      <td>113.0</td>\n",
       "      <td>0.483</td>\n",
       "      <td>0.824</td>\n",
       "      <td>...</td>\n",
       "      <td>1610612740</td>\n",
       "      <td>98.0</td>\n",
       "      <td>0.440</td>\n",
       "      <td>0.786</td>\n",
       "      <td>0.286</td>\n",
       "      <td>18.0</td>\n",
       "      <td>38.0</td>\n",
       "      <td>1</td>\n",
       "      <td>211.0</td>\n",
       "      <td>2021</td>\n",
       "    </tr>\n",
       "  </tbody>\n",
       "</table>\n",
       "<p>5 rows × 23 columns</p>\n",
       "</div>"
      ],
      "text/plain": [
       "  GAME_DATE_EST   GAME_ID GAME_STATUS_TEXT  HOME_TEAM_ID  VISITOR_TEAM_ID  \\\n",
       "0    2021-11-17  22100213            Final    1610612766       1610612764   \n",
       "1    2021-11-17  22100214            Final    1610612765       1610612754   \n",
       "2    2021-11-17  22100215            Final    1610612737       1610612738   \n",
       "3    2021-11-17  22100216            Final    1610612751       1610612739   \n",
       "4    2021-11-17  22100217            Final    1610612748       1610612740   \n",
       "\n",
       "   SEASON  TEAM_ID_home  PTS_home  FG_PCT_home  FT_PCT_home  ...  \\\n",
       "0    2021    1610612766      97.0        0.438        0.500  ...   \n",
       "1    2021    1610612765      97.0        0.425        0.750  ...   \n",
       "2    2021    1610612737     110.0        0.506        0.833  ...   \n",
       "3    2021    1610612751     109.0        0.458        0.840  ...   \n",
       "4    2021    1610612748     113.0        0.483        0.824  ...   \n",
       "\n",
       "   TEAM_ID_away  PTS_away  FG_PCT_away  FT_PCT_away  FG3_PCT_away  AST_away  \\\n",
       "0    1610612764      87.0        0.367        0.813         0.190      23.0   \n",
       "1    1610612754      89.0        0.418        0.737         0.243      14.0   \n",
       "2    1610612738      99.0        0.440        0.824         0.268      24.0   \n",
       "3    1610612739      99.0        0.393        0.857         0.250      20.0   \n",
       "4    1610612740      98.0        0.440        0.786         0.286      18.0   \n",
       "\n",
       "   REB_away  HOME_TEAM_WINS  total_score  year  \n",
       "0      48.0               1        184.0  2021  \n",
       "1      43.0               1        186.0  2021  \n",
       "2      42.0               1        209.0  2021  \n",
       "3      50.0               1        208.0  2021  \n",
       "4      38.0               1        211.0  2021  \n",
       "\n",
       "[5 rows x 23 columns]"
      ]
     },
     "execution_count": 8,
     "metadata": {},
     "output_type": "execute_result"
    }
   ],
   "source": [
    "df['total_score'] = df['PTS_home'] + df['PTS_away']\n",
    "def to_integer(dt_time):\n",
    "    return 1 *dt_time.year\n",
    "df['year'] = to_integer(pd.to_datetime(df['GAME_DATE_EST']).dt)\n",
    "df.head()"
   ]
  },
  {
   "cell_type": "markdown",
   "id": "functioning-zealand",
   "metadata": {},
   "source": [
    "# Part 3: Analysis and Visuals  \n",
    "\n",
    "Here we are going to make some plots to see how the data changes in several different catagories. \n",
    "\n",
    "### Section 3.1: Total Scoring by Year\n",
    "\n",
    "First we will make a really simple plot to see how scoring has changed over time. We will make a plot that charts scoring vs year."
   ]
  },
  {
   "cell_type": "code",
   "execution_count": 9,
   "id": "hairy-square",
   "metadata": {},
   "outputs": [
    {
     "data": {
      "text/plain": [
       "Text(0.5, 1.0, 'Game Total Score in Points Over Time in Years')"
      ]
     },
     "execution_count": 9,
     "metadata": {},
     "output_type": "execute_result"
    },
    {
     "data": {
      "image/png": "[encoded data removed]",
      "text/plain": [
       "<Figure size 432x288 with 1 Axes>"
      ]
     },
     "metadata": {
      "needs_background": "light"
     },
     "output_type": "display_data"
    }
   ],
   "source": [
    "plt.plot(df['year'], df['total_score'], '.')\n",
    "plt.xlabel(\"Year\")\n",
    "plt.ylabel(\"Game Total Score (Home + Away Team) in Points\")\n",
    "plt.title(\"Game Total Score in Points Over Time in Years\")"
   ]
  },
  {
   "cell_type": "markdown",
   "id": "appropriate-transcript",
   "metadata": {},
   "source": [
    "From this chart we can see a general uptick in scoring during our time period. But with all these data points it can be hard to see. \n",
    "\n",
    "### Section 3.2: Average Scoring per Year\n",
    "\n",
    "Let’s get the average score per year so there's only one point for each year. "
   ]
  },
  {
   "cell_type": "code",
   "execution_count": 10,
   "id": "interpreted-liability",
   "metadata": {},
   "outputs": [
    {
     "data": {
      "text/plain": [
       "Text(0.5, 1.0, 'Average Score per Game in Points Over Time in Years')"
      ]
     },
     "execution_count": 10,
     "metadata": {},
     "output_type": "execute_result"
    },
    {
     "data": {
      "image/png": "[encoded data removed]",
      "text/plain": [
       "<Figure size 432x288 with 1 Axes>"
      ]
     },
     "metadata": {
      "needs_background": "light"
     },
     "output_type": "display_data"
    }
   ],
   "source": [
    "df['x_mean'] = df.groupby('year').total_score.transform(lambda s: s.mean())\n",
    "plt.plot(df['year'], df['x_mean'], '.')\n",
    "plt.xlabel(\"Year\")\n",
    "plt.ylabel(\"Average Score per Game in Points\")\n",
    "plt.title(\"Average Score per Game in Points Over Time in Years\")"
   ]
  }
 ],
 "metadata": {
  "kernelspec": {
   "display_name": "Python 3",
   "language": "python",
   "name": "python3"
  },
  "language_info": {
   "codemirror_mode": {
    "name": "ipython",
    "version": 3
   },
   "file_extension": ".py",
   "mimetype": "text/x-python",
   "name": "python",
   "nbconvert_exporter": "python",
   "pygments_lexer": "ipython3",
   "version": "3.9.1"
  }
 },
 "nbformat": 4,
 "nbformat_minor": 5
}
