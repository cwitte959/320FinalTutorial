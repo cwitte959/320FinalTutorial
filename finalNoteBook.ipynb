{
 "cells": [
  {
   "cell_type": "markdown",
   "id": "focused-benefit",
   "metadata": {},
   "source": [
    "# How Has The Game Changed in Professional Basketaball?"
   ]
  },
  {
   "cell_type": "markdown",
   "id": "atmospheric-triangle",
   "metadata": {},
   "source": [
    "Ethan Jaffee, Christopher Witte, Ashwin Rajan"
   ]
  },
  {
   "cell_type": "markdown",
   "id": "entire-columbus",
   "metadata": {},
   "source": [
    "# Part 1: Intro"
   ]
  },
  {
   "cell_type": "markdown",
   "id": "metric-evanescence",
   "metadata": {},
   "source": [
    "### Section 1.1: Project Intro\n",
    "In our final tutorial we will be analyzing data from National Basketball Association (NBA) games between 2004 and 2021 to see how the sport has changed and will apply knowledge we gained in CMSC320 to gain a deeper insight into how professional basketball has evolved between the early 2000s and now."
   ]
  },
  {
   "cell_type": "markdown",
   "id": "domestic-rider",
   "metadata": {},
   "source": [
    "### Section 1.2: Background Info\n",
    "\n",
    "The NBA, or the National Basketball Association, is the world’s foremost professional basketball league and features some of the world's greatest athletes. Like other sports the NBA has undergone a statistical revolution, in which coaches and players have begun analyzing the sport using statistics in an attempt to improve and make the game more efficient. If you are interested in the specifics of this we recommend you read this article https://qz.com/1104922/data-analytics-have-revolutionized-the-nba/ . By looking at the outcomes of games over the years we hope to be able to see how this change has affected the game and what specific aspects of the game have been changed. \n",
    "\n"
   ]
  },
  {
   "cell_type": "markdown",
   "id": "internal-surveillance",
   "metadata": {},
   "source": [
    "### Section 1.3: Libraries\n",
    "\n",
    "Below are the python libraries we used while performing the analyses we used in our project."
   ]
  },
  {
   "cell_type": "code",
   "execution_count": 109,
   "id": "numerous-filename",
   "metadata": {},
   "outputs": [],
   "source": [
    "import pandas as pd\n",
    "import matplotlib.pyplot as plt\n",
    "import numpy as np\n",
    "import statistics"
   ]
  },
  {
   "cell_type": "markdown",
   "id": "peaceful-ghost",
   "metadata": {},
   "source": [
    "# Part 2: The Data"
   ]
  },
  {
   "cell_type": "markdown",
   "id": "homeless-serum",
   "metadata": {},
   "source": [
    "### Section 2.1: What is our data?\n",
    "Our data is the outcome of every game starting in the 2004 season until now. It includes data such as the score from each team and the FG% (Shots taken over shots made), 3FG%(Three point shots taken over three point shots made), and FT% (Free throws made over free throws taken). We go this dataset from Kaggel, the link to the data is https://www.kaggle.com/nathanlauga/nba-games?select=games.csv if you would like to download it for yourself. We will be looking at the games.csv file because we feel it best gives us the information we need to answer our questions, but there are some other interesting files if you want to do your own projects!  "
   ]
  },
  {
   "cell_type": "markdown",
   "id": "diagnostic-effort",
   "metadata": {},
   "source": [
    "### Section 2.1: Getting started!\n",
    "\n",
    "The first thing we will do is take our csv and load it into a pandas dataframe, luckily pandas has a built in method to help us do that!"
   ]
  },
  {
   "cell_type": "code",
   "execution_count": 110,
   "id": "insured-clarity",
   "metadata": {},
   "outputs": [
    {
     "data": {
      "text/html": [
       "<div>\n",
       "<style scoped>\n",
       "    .dataframe tbody tr th:only-of-type {\n",
       "        vertical-align: middle;\n",
       "    }\n",
       "\n",
       "    .dataframe tbody tr th {\n",
       "        vertical-align: top;\n",
       "    }\n",
       "\n",
       "    .dataframe thead th {\n",
       "        text-align: right;\n",
       "    }\n",
       "</style>\n",
       "<table border=\"1\" class=\"dataframe\">\n",
       "  <thead>\n",
       "    <tr style=\"text-align: right;\">\n",
       "      <th></th>\n",
       "      <th>GAME_DATE_EST</th>\n",
       "      <th>GAME_ID</th>\n",
       "      <th>GAME_STATUS_TEXT</th>\n",
       "      <th>HOME_TEAM_ID</th>\n",
       "      <th>VISITOR_TEAM_ID</th>\n",
       "      <th>SEASON</th>\n",
       "      <th>TEAM_ID_home</th>\n",
       "      <th>PTS_home</th>\n",
       "      <th>FG_PCT_home</th>\n",
       "      <th>FT_PCT_home</th>\n",
       "      <th>...</th>\n",
       "      <th>AST_home</th>\n",
       "      <th>REB_home</th>\n",
       "      <th>TEAM_ID_away</th>\n",
       "      <th>PTS_away</th>\n",
       "      <th>FG_PCT_away</th>\n",
       "      <th>FT_PCT_away</th>\n",
       "      <th>FG3_PCT_away</th>\n",
       "      <th>AST_away</th>\n",
       "      <th>REB_away</th>\n",
       "      <th>HOME_TEAM_WINS</th>\n",
       "    </tr>\n",
       "  </thead>\n",
       "  <tbody>\n",
       "    <tr>\n",
       "      <th>0</th>\n",
       "      <td>2021-11-17</td>\n",
       "      <td>22100213</td>\n",
       "      <td>Final</td>\n",
       "      <td>1610612766</td>\n",
       "      <td>1610612764</td>\n",
       "      <td>2021</td>\n",
       "      <td>1610612766</td>\n",
       "      <td>97.0</td>\n",
       "      <td>0.438</td>\n",
       "      <td>0.500</td>\n",
       "      <td>...</td>\n",
       "      <td>30.0</td>\n",
       "      <td>59.0</td>\n",
       "      <td>1610612764</td>\n",
       "      <td>87.0</td>\n",
       "      <td>0.367</td>\n",
       "      <td>0.813</td>\n",
       "      <td>0.190</td>\n",
       "      <td>23.0</td>\n",
       "      <td>48.0</td>\n",
       "      <td>1</td>\n",
       "    </tr>\n",
       "    <tr>\n",
       "      <th>1</th>\n",
       "      <td>2021-11-17</td>\n",
       "      <td>22100214</td>\n",
       "      <td>Final</td>\n",
       "      <td>1610612765</td>\n",
       "      <td>1610612754</td>\n",
       "      <td>2021</td>\n",
       "      <td>1610612765</td>\n",
       "      <td>97.0</td>\n",
       "      <td>0.425</td>\n",
       "      <td>0.750</td>\n",
       "      <td>...</td>\n",
       "      <td>16.0</td>\n",
       "      <td>42.0</td>\n",
       "      <td>1610612754</td>\n",
       "      <td>89.0</td>\n",
       "      <td>0.418</td>\n",
       "      <td>0.737</td>\n",
       "      <td>0.243</td>\n",
       "      <td>14.0</td>\n",
       "      <td>43.0</td>\n",
       "      <td>1</td>\n",
       "    </tr>\n",
       "    <tr>\n",
       "      <th>2</th>\n",
       "      <td>2021-11-17</td>\n",
       "      <td>22100215</td>\n",
       "      <td>Final</td>\n",
       "      <td>1610612737</td>\n",
       "      <td>1610612738</td>\n",
       "      <td>2021</td>\n",
       "      <td>1610612737</td>\n",
       "      <td>110.0</td>\n",
       "      <td>0.506</td>\n",
       "      <td>0.833</td>\n",
       "      <td>...</td>\n",
       "      <td>28.0</td>\n",
       "      <td>40.0</td>\n",
       "      <td>1610612738</td>\n",
       "      <td>99.0</td>\n",
       "      <td>0.440</td>\n",
       "      <td>0.824</td>\n",
       "      <td>0.268</td>\n",
       "      <td>24.0</td>\n",
       "      <td>42.0</td>\n",
       "      <td>1</td>\n",
       "    </tr>\n",
       "    <tr>\n",
       "      <th>3</th>\n",
       "      <td>2021-11-17</td>\n",
       "      <td>22100216</td>\n",
       "      <td>Final</td>\n",
       "      <td>1610612751</td>\n",
       "      <td>1610612739</td>\n",
       "      <td>2021</td>\n",
       "      <td>1610612751</td>\n",
       "      <td>109.0</td>\n",
       "      <td>0.458</td>\n",
       "      <td>0.840</td>\n",
       "      <td>...</td>\n",
       "      <td>29.0</td>\n",
       "      <td>47.0</td>\n",
       "      <td>1610612739</td>\n",
       "      <td>99.0</td>\n",
       "      <td>0.393</td>\n",
       "      <td>0.857</td>\n",
       "      <td>0.250</td>\n",
       "      <td>20.0</td>\n",
       "      <td>50.0</td>\n",
       "      <td>1</td>\n",
       "    </tr>\n",
       "    <tr>\n",
       "      <th>4</th>\n",
       "      <td>2021-11-17</td>\n",
       "      <td>22100217</td>\n",
       "      <td>Final</td>\n",
       "      <td>1610612748</td>\n",
       "      <td>1610612740</td>\n",
       "      <td>2021</td>\n",
       "      <td>1610612748</td>\n",
       "      <td>113.0</td>\n",
       "      <td>0.483</td>\n",
       "      <td>0.824</td>\n",
       "      <td>...</td>\n",
       "      <td>29.0</td>\n",
       "      <td>39.0</td>\n",
       "      <td>1610612740</td>\n",
       "      <td>98.0</td>\n",
       "      <td>0.440</td>\n",
       "      <td>0.786</td>\n",
       "      <td>0.286</td>\n",
       "      <td>18.0</td>\n",
       "      <td>38.0</td>\n",
       "      <td>1</td>\n",
       "    </tr>\n",
       "  </tbody>\n",
       "</table>\n",
       "<p>5 rows × 21 columns</p>\n",
       "</div>"
      ],
      "text/plain": [
       "  GAME_DATE_EST   GAME_ID GAME_STATUS_TEXT  HOME_TEAM_ID  VISITOR_TEAM_ID  \\\n",
       "0    2021-11-17  22100213            Final    1610612766       1610612764   \n",
       "1    2021-11-17  22100214            Final    1610612765       1610612754   \n",
       "2    2021-11-17  22100215            Final    1610612737       1610612738   \n",
       "3    2021-11-17  22100216            Final    1610612751       1610612739   \n",
       "4    2021-11-17  22100217            Final    1610612748       1610612740   \n",
       "\n",
       "   SEASON  TEAM_ID_home  PTS_home  FG_PCT_home  FT_PCT_home  ...  AST_home  \\\n",
       "0    2021    1610612766      97.0        0.438        0.500  ...      30.0   \n",
       "1    2021    1610612765      97.0        0.425        0.750  ...      16.0   \n",
       "2    2021    1610612737     110.0        0.506        0.833  ...      28.0   \n",
       "3    2021    1610612751     109.0        0.458        0.840  ...      29.0   \n",
       "4    2021    1610612748     113.0        0.483        0.824  ...      29.0   \n",
       "\n",
       "   REB_home  TEAM_ID_away  PTS_away  FG_PCT_away  FT_PCT_away  FG3_PCT_away  \\\n",
       "0      59.0    1610612764      87.0        0.367        0.813         0.190   \n",
       "1      42.0    1610612754      89.0        0.418        0.737         0.243   \n",
       "2      40.0    1610612738      99.0        0.440        0.824         0.268   \n",
       "3      47.0    1610612739      99.0        0.393        0.857         0.250   \n",
       "4      39.0    1610612740      98.0        0.440        0.786         0.286   \n",
       "\n",
       "   AST_away  REB_away  HOME_TEAM_WINS  \n",
       "0      23.0      48.0               1  \n",
       "1      14.0      43.0               1  \n",
       "2      24.0      42.0               1  \n",
       "3      20.0      50.0               1  \n",
       "4      18.0      38.0               1  \n",
       "\n",
       "[5 rows x 21 columns]"
      ]
     },
     "execution_count": 110,
     "metadata": {},
     "output_type": "execute_result"
    }
   ],
   "source": [
    "df = pd.read_csv(\"games.csv\")\n",
    "df.head()"
   ]
  },
  {
   "cell_type": "markdown",
   "id": "black-correlation",
   "metadata": {},
   "source": [
    "As observed above, the dataset has many catagories that can be useful for our analysis. The creator of the dataset has made columns that are very specific so people like us can get game data as specific as we desire. For example, we can look at points, field goal percentage, free torugh percentage, assists, and rebounds for both the home and away team indivudually. \n",
    "\n",
    "Next we are going to add the following columns to help with our analysis later:\n",
    "* Combine the home and away score for each game to have the total score for each game. \n",
    "* Combine the home and away Field Goal Percentage for an Average Field Goal Percentage for each game. \n",
    "* Combine the home and away Three Point Percentage for an Average Three Point Percentage for each game. \n",
    "* Combine the home and away Free Throw Percentage for an Average Free Throw Percentage for each game. \n",
    "* Combine the home and away assists for a total number of assists for each game. \n",
    "* Combine the home and away rebounds for a total number of rebounds for each game. \n",
    "* Add a column that has just the year the game is played.\n",
    "\n"
   ]
  },
  {
   "cell_type": "code",
   "execution_count": 111,
   "id": "starting-tucson",
   "metadata": {},
   "outputs": [
    {
     "data": {
      "text/html": [
       "<div>\n",
       "<style scoped>\n",
       "    .dataframe tbody tr th:only-of-type {\n",
       "        vertical-align: middle;\n",
       "    }\n",
       "\n",
       "    .dataframe tbody tr th {\n",
       "        vertical-align: top;\n",
       "    }\n",
       "\n",
       "    .dataframe thead th {\n",
       "        text-align: right;\n",
       "    }\n",
       "</style>\n",
       "<table border=\"1\" class=\"dataframe\">\n",
       "  <thead>\n",
       "    <tr style=\"text-align: right;\">\n",
       "      <th></th>\n",
       "      <th>GAME_DATE_EST</th>\n",
       "      <th>GAME_ID</th>\n",
       "      <th>GAME_STATUS_TEXT</th>\n",
       "      <th>HOME_TEAM_ID</th>\n",
       "      <th>VISITOR_TEAM_ID</th>\n",
       "      <th>SEASON</th>\n",
       "      <th>TEAM_ID_home</th>\n",
       "      <th>PTS_home</th>\n",
       "      <th>FG_PCT_home</th>\n",
       "      <th>FT_PCT_home</th>\n",
       "      <th>...</th>\n",
       "      <th>AST_away</th>\n",
       "      <th>REB_away</th>\n",
       "      <th>HOME_TEAM_WINS</th>\n",
       "      <th>total_score</th>\n",
       "      <th>avg_FG_PCT</th>\n",
       "      <th>avg_FG3_PCT</th>\n",
       "      <th>avg_FT_PCT</th>\n",
       "      <th>total_assists</th>\n",
       "      <th>total_rebounds</th>\n",
       "      <th>year</th>\n",
       "    </tr>\n",
       "  </thead>\n",
       "  <tbody>\n",
       "    <tr>\n",
       "      <th>0</th>\n",
       "      <td>2021-11-17</td>\n",
       "      <td>22100213</td>\n",
       "      <td>Final</td>\n",
       "      <td>1610612766</td>\n",
       "      <td>1610612764</td>\n",
       "      <td>2021</td>\n",
       "      <td>1610612766</td>\n",
       "      <td>97.0</td>\n",
       "      <td>0.438</td>\n",
       "      <td>0.500</td>\n",
       "      <td>...</td>\n",
       "      <td>23.0</td>\n",
       "      <td>48.0</td>\n",
       "      <td>1</td>\n",
       "      <td>184.0</td>\n",
       "      <td>0.4025</td>\n",
       "      <td>0.2515</td>\n",
       "      <td>0.6565</td>\n",
       "      <td>53.0</td>\n",
       "      <td>107.0</td>\n",
       "      <td>2021</td>\n",
       "    </tr>\n",
       "    <tr>\n",
       "      <th>1</th>\n",
       "      <td>2021-11-17</td>\n",
       "      <td>22100214</td>\n",
       "      <td>Final</td>\n",
       "      <td>1610612765</td>\n",
       "      <td>1610612754</td>\n",
       "      <td>2021</td>\n",
       "      <td>1610612765</td>\n",
       "      <td>97.0</td>\n",
       "      <td>0.425</td>\n",
       "      <td>0.750</td>\n",
       "      <td>...</td>\n",
       "      <td>14.0</td>\n",
       "      <td>43.0</td>\n",
       "      <td>1</td>\n",
       "      <td>186.0</td>\n",
       "      <td>0.4215</td>\n",
       "      <td>0.2645</td>\n",
       "      <td>0.7435</td>\n",
       "      <td>30.0</td>\n",
       "      <td>85.0</td>\n",
       "      <td>2021</td>\n",
       "    </tr>\n",
       "    <tr>\n",
       "      <th>2</th>\n",
       "      <td>2021-11-17</td>\n",
       "      <td>22100215</td>\n",
       "      <td>Final</td>\n",
       "      <td>1610612737</td>\n",
       "      <td>1610612738</td>\n",
       "      <td>2021</td>\n",
       "      <td>1610612737</td>\n",
       "      <td>110.0</td>\n",
       "      <td>0.506</td>\n",
       "      <td>0.833</td>\n",
       "      <td>...</td>\n",
       "      <td>24.0</td>\n",
       "      <td>42.0</td>\n",
       "      <td>1</td>\n",
       "      <td>209.0</td>\n",
       "      <td>0.4730</td>\n",
       "      <td>0.3095</td>\n",
       "      <td>0.8285</td>\n",
       "      <td>52.0</td>\n",
       "      <td>82.0</td>\n",
       "      <td>2021</td>\n",
       "    </tr>\n",
       "    <tr>\n",
       "      <th>3</th>\n",
       "      <td>2021-11-17</td>\n",
       "      <td>22100216</td>\n",
       "      <td>Final</td>\n",
       "      <td>1610612751</td>\n",
       "      <td>1610612739</td>\n",
       "      <td>2021</td>\n",
       "      <td>1610612751</td>\n",
       "      <td>109.0</td>\n",
       "      <td>0.458</td>\n",
       "      <td>0.840</td>\n",
       "      <td>...</td>\n",
       "      <td>20.0</td>\n",
       "      <td>50.0</td>\n",
       "      <td>1</td>\n",
       "      <td>208.0</td>\n",
       "      <td>0.4255</td>\n",
       "      <td>0.3125</td>\n",
       "      <td>0.8485</td>\n",
       "      <td>49.0</td>\n",
       "      <td>97.0</td>\n",
       "      <td>2021</td>\n",
       "    </tr>\n",
       "    <tr>\n",
       "      <th>4</th>\n",
       "      <td>2021-11-17</td>\n",
       "      <td>22100217</td>\n",
       "      <td>Final</td>\n",
       "      <td>1610612748</td>\n",
       "      <td>1610612740</td>\n",
       "      <td>2021</td>\n",
       "      <td>1610612748</td>\n",
       "      <td>113.0</td>\n",
       "      <td>0.483</td>\n",
       "      <td>0.824</td>\n",
       "      <td>...</td>\n",
       "      <td>18.0</td>\n",
       "      <td>38.0</td>\n",
       "      <td>1</td>\n",
       "      <td>211.0</td>\n",
       "      <td>0.4615</td>\n",
       "      <td>0.3305</td>\n",
       "      <td>0.8050</td>\n",
       "      <td>47.0</td>\n",
       "      <td>77.0</td>\n",
       "      <td>2021</td>\n",
       "    </tr>\n",
       "  </tbody>\n",
       "</table>\n",
       "<p>5 rows × 28 columns</p>\n",
       "</div>"
      ],
      "text/plain": [
       "  GAME_DATE_EST   GAME_ID GAME_STATUS_TEXT  HOME_TEAM_ID  VISITOR_TEAM_ID  \\\n",
       "0    2021-11-17  22100213            Final    1610612766       1610612764   \n",
       "1    2021-11-17  22100214            Final    1610612765       1610612754   \n",
       "2    2021-11-17  22100215            Final    1610612737       1610612738   \n",
       "3    2021-11-17  22100216            Final    1610612751       1610612739   \n",
       "4    2021-11-17  22100217            Final    1610612748       1610612740   \n",
       "\n",
       "   SEASON  TEAM_ID_home  PTS_home  FG_PCT_home  FT_PCT_home  ...  AST_away  \\\n",
       "0    2021    1610612766      97.0        0.438        0.500  ...      23.0   \n",
       "1    2021    1610612765      97.0        0.425        0.750  ...      14.0   \n",
       "2    2021    1610612737     110.0        0.506        0.833  ...      24.0   \n",
       "3    2021    1610612751     109.0        0.458        0.840  ...      20.0   \n",
       "4    2021    1610612748     113.0        0.483        0.824  ...      18.0   \n",
       "\n",
       "   REB_away  HOME_TEAM_WINS  total_score  avg_FG_PCT  avg_FG3_PCT  avg_FT_PCT  \\\n",
       "0      48.0               1        184.0      0.4025       0.2515      0.6565   \n",
       "1      43.0               1        186.0      0.4215       0.2645      0.7435   \n",
       "2      42.0               1        209.0      0.4730       0.3095      0.8285   \n",
       "3      50.0               1        208.0      0.4255       0.3125      0.8485   \n",
       "4      38.0               1        211.0      0.4615       0.3305      0.8050   \n",
       "\n",
       "   total_assists  total_rebounds  year  \n",
       "0           53.0           107.0  2021  \n",
       "1           30.0            85.0  2021  \n",
       "2           52.0            82.0  2021  \n",
       "3           49.0            97.0  2021  \n",
       "4           47.0            77.0  2021  \n",
       "\n",
       "[5 rows x 28 columns]"
      ]
     },
     "execution_count": 111,
     "metadata": {},
     "output_type": "execute_result"
    }
   ],
   "source": [
    "import statistics\n",
    "df['total_score'] = df['PTS_home'] + df['PTS_away']\n",
    "df['avg_FG_PCT'] = (df['FG_PCT_home'] + df['FG_PCT_away']) / 2\n",
    "df['avg_FG3_PCT'] = (df['FG3_PCT_home'] + df['FG3_PCT_away']) / 2\n",
    "df['avg_FT_PCT'] = (df['FT_PCT_home'] + df['FT_PCT_away']) / 2\n",
    "df['total_assists']  = df['AST_home'] + df['AST_away']\n",
    "df['total_rebounds'] = df['REB_home'] + df['REB_away']\n",
    "def to_integer(dt_time):\n",
    "    return 1 *dt_time.year\n",
    "df['year'] = to_integer(pd.to_datetime(df['GAME_DATE_EST']).dt)\n",
    "df.head()"
   ]
  },
  {
   "cell_type": "markdown",
   "id": "functioning-zealand",
   "metadata": {},
   "source": [
    "# Part 3: Analysis and Visuals  \n",
    "\n",
    "Here we are going to make some plots to see how the data changes in several different catagories. \n",
    "\n",
    "### Section 3.1: Total Scoring by Year\n",
    "\n",
    "First we will make a really simple plot to see how scoring has changed over time. We will make a plot that charts scoring vs year."
   ]
  },
  {
   "cell_type": "code",
   "execution_count": 112,
   "id": "hairy-square",
   "metadata": {},
   "outputs": [
    {
     "data": {
      "text/plain": [
       "Text(0.5, 1.0, 'Game Total Score in Points Over Time in Years')"
      ]
     },
     "execution_count": 112,
     "metadata": {},
     "output_type": "execute_result"
    },
    {
     "data": {
      "image/png": "[encoded data removed]",
      "text/plain": [
       "<Figure size 432x288 with 1 Axes>"
      ]
     },
     "metadata": {
      "needs_background": "light"
     },
     "output_type": "display_data"
    }
   ],
   "source": [
    "plt.plot(df['year'], df['total_score'], '.')\n",
    "plt.xlabel(\"Year\")\n",
    "plt.ylabel(\"Game Total Score (Home + Away Team) in Points\")\n",
    "plt.title(\"Game Total Score in Points Over Time in Years\")"
   ]
  },
  {
   "cell_type": "markdown",
   "id": "appropriate-transcript",
   "metadata": {},
   "source": [
    "From this chart we can see a general uptick in scoring during our time period. As we look at the data points as time goes on, the lower and higher bound both increase over time. While this does give us some insight, all these data points can make it hard to visualize exactly what we need to. This is where using an average will be useful! \n",
    "\n",
    "### Section 3.2: Average Scoring per Year\n",
    "\n",
    "Let’s get the average score per year so there's only one data point for each year. "
   ]
  },
  {
   "cell_type": "code",
   "execution_count": 113,
   "id": "interpreted-liability",
   "metadata": {},
   "outputs": [
    {
     "data": {
      "text/plain": [
       "Text(0.5, 1.0, 'Average Score per Game in Points Over Time in Years')"
      ]
     },
     "execution_count": 113,
     "metadata": {},
     "output_type": "execute_result"
    },
    {
     "data": {
      "image/png": "[encoded data removed]",
      "text/plain": [
       "<Figure size 432x288 with 1 Axes>"
      ]
     },
     "metadata": {
      "needs_background": "light"
     },
     "output_type": "display_data"
    }
   ],
   "source": [
    "df['x_mean'] = df.groupby('year').total_score.transform(lambda s: s.mean())\n",
    "plt.plot(df['year'], df['x_mean'], '.')\n",
    "plt.xlabel(\"Year\")\n",
    "plt.ylabel(\"Average Score per Game in Points\")\n",
    "plt.title(\"Average Score per Game in Points Over Time in Years\")"
   ]
  },
  {
   "cell_type": "markdown",
   "id": "fd2e02bd",
   "metadata": {},
   "source": [
    "Looking at the plot above, it is evident that the average scoring per game increases over time. Since this plot shows the averages, the amount of data points in the visualization decreases significantly. While an average may not show the entire picture as well as a plot with every game as a data point, it is still a reliable method that makes viewing the pattern a lot easier. \n",
    "\n",
    "We now have looked at two plots that show how scoring has increased overtime. However, in the NBA there are a few different ways to score that were mentioned earlier being three point shots, two point shots, and free throws. Each of these may have increased differently, with one having more impact than another depending on the year. This is why it is important to look at plots of each of these individually. "
   ]
  },
  {
   "cell_type": "markdown",
   "id": "b7ca8d4e",
   "metadata": {},
   "source": [
    "### Section 3.3: Field Goal Percentage\n",
    "\n",
    "Field Goal Percentage(FG%), according to Basketball-Reference.com is the ratio of field goals made to field goals attempted. \n",
    "This includes all shots including dunks, lay-ups, two-point shots, and three-point shots. Let's see how it has changed overtime!"
   ]
  },
  {
   "cell_type": "code",
   "execution_count": 114,
   "id": "7a47bcec",
   "metadata": {},
   "outputs": [
    {
     "data": {
      "text/plain": [
       "Text(0.5, 1.0, 'Average Field Goal Percentage per Game in Points Over Time in Years')"
      ]
     },
     "execution_count": 114,
     "metadata": {},
     "output_type": "execute_result"
    },
    {
     "data": {
      "image/png": "[encoded data removed]",
      "text/plain": [
       "<Figure size 432x288 with 1 Axes>"
      ]
     },
     "metadata": {
      "needs_background": "light"
     },
     "output_type": "display_data"
    }
   ],
   "source": [
    "df['x_mean'] = df.groupby('year').avg_FG_PCT.transform(lambda s: s.mean())\n",
    "plt.plot(df['year'], df['x_mean'], '.')\n",
    "plt.xlabel(\"Year\")\n",
    "plt.ylabel(\"Average Field Goal Percentage per Game in Points\")\n",
    "plt.title(\"Average Field Goal Percentage per Game in Points Over Time in Years\")"
   ]
  },
  {
   "cell_type": "markdown",
   "id": "a8e84cc3",
   "metadata": {},
   "source": [
    "### Section 3.4: Three-Point Shot Percentage"
   ]
  },
  {
   "cell_type": "code",
   "execution_count": 115,
   "id": "9a021d17",
   "metadata": {},
   "outputs": [
    {
     "data": {
      "text/plain": [
       "Text(0.5, 1.0, 'Average Three Point Percentage per Game in Points Over Time in Years')"
      ]
     },
     "execution_count": 115,
     "metadata": {},
     "output_type": "execute_result"
    },
    {
     "data": {
      "image/png": "[encoded data removed]",
      "text/plain": [
       "<Figure size 432x288 with 1 Axes>"
      ]
     },
     "metadata": {
      "needs_background": "light"
     },
     "output_type": "display_data"
    }
   ],
   "source": [
    "df['x_mean'] = df.groupby('year').avg_FG3_PCT.transform(lambda s: s.mean())\n",
    "plt.plot(df['year'], df['x_mean'], '.')\n",
    "plt.xlabel(\"Year\")\n",
    "plt.ylabel(\"Average Three Point Percentage per Game in Points\")\n",
    "plt.title(\"Average Three Point Percentage per Game in Points Over Time in Years\")"
   ]
  },
  {
   "cell_type": "markdown",
   "id": "91cc0460",
   "metadata": {},
   "source": [
    "Insert analysis"
   ]
  },
  {
   "cell_type": "markdown",
   "id": "465f3ac4",
   "metadata": {},
   "source": [
    "### Section 3.5: Free Throw Percentage"
   ]
  },
  {
   "cell_type": "code",
   "execution_count": 116,
   "id": "cf530c7a",
   "metadata": {},
   "outputs": [
    {
     "data": {
      "text/plain": [
       "Text(0.5, 1.0, 'Average Free Throw Percentage per Game in Points Over Time in Years')"
      ]
     },
     "execution_count": 116,
     "metadata": {},
     "output_type": "execute_result"
    },
    {
     "data": {
      "image/png": "[encoded data removed]",
      "text/plain": [
       "<Figure size 432x288 with 1 Axes>"
      ]
     },
     "metadata": {
      "needs_background": "light"
     },
     "output_type": "display_data"
    }
   ],
   "source": [
    "df['x_mean'] = df.groupby('year').avg_FT_PCT.transform(lambda s: s.mean())\n",
    "plt.plot(df['year'], df['x_mean'], '.')\n",
    "plt.xlabel(\"Year\")\n",
    "plt.ylabel(\"Average Free Throw Percentage per Game in Points\")\n",
    "plt.title(\"Average Free Throw Percentage per Game in Points Over Time in Years\")"
   ]
  },
  {
   "cell_type": "markdown",
   "id": "d707ca5a",
   "metadata": {},
   "source": [
    "insert analysis"
   ]
  },
  {
   "cell_type": "markdown",
   "id": "1208a59b",
   "metadata": {},
   "source": [
    "### Section 3.6: Assists "
   ]
  },
  {
   "cell_type": "code",
   "execution_count": 117,
   "id": "a064f74d",
   "metadata": {},
   "outputs": [
    {
     "data": {
      "text/plain": [
       "Text(0.5, 1.0, 'Average Assists per Game Over Time in Years')"
      ]
     },
     "execution_count": 117,
     "metadata": {},
     "output_type": "execute_result"
    },
    {
     "data": {
      "image/png": "[encoded data removed]",
      "text/plain": [
       "<Figure size 432x288 with 1 Axes>"
      ]
     },
     "metadata": {
      "needs_background": "light"
     },
     "output_type": "display_data"
    }
   ],
   "source": [
    "df['x_mean'] = df.groupby('year').total_assists.transform(lambda s: s.mean())\n",
    "plt.plot(df['year'], df['x_mean'], '.')\n",
    "plt.xlabel(\"Year\")\n",
    "plt.ylabel(\"Average Assists per Game\")\n",
    "plt.title(\"Average Assists per Game Over Time in Years\")"
   ]
  },
  {
   "cell_type": "markdown",
   "id": "467cbf74",
   "metadata": {},
   "source": [
    "Insert analysis"
   ]
  },
  {
   "cell_type": "markdown",
   "id": "cce98c54",
   "metadata": {},
   "source": [
    "### Section 3.7: Rebounds"
   ]
  },
  {
   "cell_type": "code",
   "execution_count": 118,
   "id": "c142e264",
   "metadata": {},
   "outputs": [
    {
     "data": {
      "text/plain": [
       "Text(0.5, 1.0, 'Average Rebounds per Game Over Time in Years')"
      ]
     },
     "execution_count": 118,
     "metadata": {},
     "output_type": "execute_result"
    },
    {
     "data": {
      "image/png": "[encoded data removed]",
      "text/plain": [
       "<Figure size 432x288 with 1 Axes>"
      ]
     },
     "metadata": {
      "needs_background": "light"
     },
     "output_type": "display_data"
    }
   ],
   "source": [
    "df['x_mean'] = df.groupby('year').total_rebounds.transform(lambda s: s.mean())\n",
    "plt.plot(df['year'], df['x_mean'], '.')\n",
    "plt.xlabel(\"Year\")\n",
    "plt.ylabel(\"Average Rebounds per Game\")\n",
    "plt.title(\"Average Rebounds per Game Over Time in Years\")"
   ]
  },
  {
   "cell_type": "markdown",
   "id": "6370f5e7",
   "metadata": {},
   "source": [
    "Insert analysis"
   ]
  },
  {
   "cell_type": "markdown",
   "id": "2075d64d",
   "metadata": {},
   "source": [
    "### Section 3.8: Total Points - Home vs Away\n",
    "\n",
    "Now we will do an analysis of the same catagories but now comparing the increases among home and away teams"
   ]
  },
  {
   "cell_type": "code",
   "execution_count": 119,
   "id": "de941dd4",
   "metadata": {},
   "outputs": [
    {
     "data": {
      "text/plain": [
       "Text(0.5, 1.0, 'Average Points per Game Over Time in Years')"
      ]
     },
     "execution_count": 119,
     "metadata": {},
     "output_type": "execute_result"
    },
    {
     "data": {
      "image/png": "[encoded data removed]",
      "text/plain": [
       "<Figure size 432x288 with 1 Axes>"
      ]
     },
     "metadata": {
      "needs_background": "light"
     },
     "output_type": "display_data"
    }
   ],
   "source": [
    "df['home_mean'] = df.groupby('year').PTS_home.transform(lambda s: s.mean())\n",
    "df['away_mean'] = df.groupby('year').PTS_away.transform(lambda s: s.mean())\n",
    "plt.plot(df['year'], df['home_mean'], '.')\n",
    "plt.plot(df['year'], df['away_mean'], '^')\n",
    "plt.xlabel(\"Year\")\n",
    "plt.ylabel(\"Average Points per Game in Points\")\n",
    "plt.title(\"Average Points per Game Over Time in Years\")"
   ]
  },
  {
   "cell_type": "markdown",
   "id": "e091248b",
   "metadata": {},
   "source": [
    "Insert Analysis"
   ]
  },
  {
   "cell_type": "markdown",
   "id": "8b1d949e",
   "metadata": {},
   "source": [
    "### Section 3.9: Field Goal Percentage - Home vs Away"
   ]
  },
  {
   "cell_type": "code",
   "execution_count": 120,
   "id": "c49e76fe",
   "metadata": {},
   "outputs": [
    {
     "data": {
      "text/plain": [
       "Text(0.5, 1.0, 'Average Field Goal Percentage per Game Over Time in Years')"
      ]
     },
     "execution_count": 120,
     "metadata": {},
     "output_type": "execute_result"
    },
    {
     "data": {
      "image/png": "[encoded data removed]",
      "text/plain": [
       "<Figure size 432x288 with 1 Axes>"
      ]
     },
     "metadata": {
      "needs_background": "light"
     },
     "output_type": "display_data"
    }
   ],
   "source": [
    "df['home_mean'] = df.groupby('year').FG_PCT_home.transform(lambda s: s.mean())\n",
    "df['away_mean'] = df.groupby('year').FG_PCT_away.transform(lambda s: s.mean())\n",
    "plt.plot(df['year'], df['home_mean'], '.')\n",
    "plt.plot(df['year'], df['away_mean'], '^')\n",
    "plt.xlabel(\"Year\")\n",
    "plt.ylabel(\"Average Field Goal Percentage per Game in Points\")\n",
    "plt.title(\"Average Field Goal Percentage per Game Over Time in Years\")"
   ]
  },
  {
   "cell_type": "markdown",
   "id": "24fc402e",
   "metadata": {},
   "source": [
    "Insert Analysis"
   ]
  },
  {
   "cell_type": "markdown",
   "id": "5da0d18c",
   "metadata": {},
   "source": [
    "### Section 3.10: Three Point Percentage - Home vs Away"
   ]
  },
  {
   "cell_type": "code",
   "execution_count": 121,
   "id": "29f0c53e",
   "metadata": {},
   "outputs": [
    {
     "data": {
      "text/plain": [
       "Text(0.5, 1.0, 'Average Three Point Percentage per Game Over Time in Years')"
      ]
     },
     "execution_count": 121,
     "metadata": {},
     "output_type": "execute_result"
    },
    {
     "data": {
      "image/png": "[encoded data removed]",
      "text/plain": [
       "<Figure size 432x288 with 1 Axes>"
      ]
     },
     "metadata": {
      "needs_background": "light"
     },
     "output_type": "display_data"
    }
   ],
   "source": [
    "df['home_mean'] = df.groupby('year').FG3_PCT_home.transform(lambda s: s.mean())\n",
    "df['away_mean'] = df.groupby('year').FG3_PCT_away.transform(lambda s: s.mean())\n",
    "plt.plot(df['year'], df['home_mean'], '.')\n",
    "plt.plot(df['year'], df['away_mean'], '^')\n",
    "plt.xlabel(\"Year\")\n",
    "plt.ylabel(\"Average Three Point Percentage per Game in Points\")\n",
    "plt.title(\"Average Three Point Percentage per Game Over Time in Years\")"
   ]
  },
  {
   "cell_type": "markdown",
   "id": "0f9ca7f6",
   "metadata": {},
   "source": [
    "Insert Analysis"
   ]
  },
  {
   "cell_type": "markdown",
   "id": "8881156e",
   "metadata": {},
   "source": [
    "### Section 3.11: Free Throw Percentage - Home vs Away"
   ]
  },
  {
   "cell_type": "code",
   "execution_count": 122,
   "id": "dc20c975",
   "metadata": {},
   "outputs": [
    {
     "data": {
      "text/plain": [
       "Text(0.5, 1.0, 'Average Free Throw Percentage per Game Over Time in Years')"
      ]
     },
     "execution_count": 122,
     "metadata": {},
     "output_type": "execute_result"
    },
    {
     "data": {
      "image/png": "[encoded data removed]",
      "text/plain": [
       "<Figure size 432x288 with 1 Axes>"
      ]
     },
     "metadata": {
      "needs_background": "light"
     },
     "output_type": "display_data"
    }
   ],
   "source": [
    "df['home_mean'] = df.groupby('year').FT_PCT_home.transform(lambda s: s.mean())\n",
    "df['away_mean'] = df.groupby('year').FT_PCT_away.transform(lambda s: s.mean())\n",
    "plt.plot(df['year'], df['home_mean'], '.')\n",
    "plt.plot(df['year'], df['away_mean'], '^')\n",
    "plt.xlabel(\"Year\")\n",
    "plt.ylabel(\"Average Free Throw Percentage per Game in Points\")\n",
    "plt.title(\"Average Free Throw Percentage per Game Over Time in Years\")"
   ]
  },
  {
   "cell_type": "markdown",
   "id": "1f869987",
   "metadata": {},
   "source": [
    "Insert Analysis"
   ]
  },
  {
   "cell_type": "markdown",
   "id": "71940656",
   "metadata": {},
   "source": [
    "### Section 3.12: Assists - Home vs Away"
   ]
  },
  {
   "cell_type": "code",
   "execution_count": 123,
   "id": "8cea1df2",
   "metadata": {},
   "outputs": [
    {
     "data": {
      "text/plain": [
       "Text(0.5, 1.0, 'Average Asists per Game Over Time in Years')"
      ]
     },
     "execution_count": 123,
     "metadata": {},
     "output_type": "execute_result"
    },
    {
     "data": {
      "image/png": "[encoded data removed]",
      "text/plain": [
       "<Figure size 432x288 with 1 Axes>"
      ]
     },
     "metadata": {
      "needs_background": "light"
     },
     "output_type": "display_data"
    }
   ],
   "source": [
    "df['home_mean'] = df.groupby('year').AST_home.transform(lambda s: s.mean())\n",
    "df['away_mean'] = df.groupby('year').AST_away.transform(lambda s: s.mean())\n",
    "plt.plot(df['year'], df['home_mean'], '.')\n",
    "plt.plot(df['year'], df['away_mean'], '^')\n",
    "plt.xlabel(\"Year\")\n",
    "plt.ylabel(\"Average Assists per Game in Points\")\n",
    "plt.title(\"Average Asists per Game Over Time in Years\")"
   ]
  },
  {
   "cell_type": "markdown",
   "id": "7e8f3851",
   "metadata": {},
   "source": [
    "Insert Analysis"
   ]
  },
  {
   "cell_type": "markdown",
   "id": "f3da036b",
   "metadata": {},
   "source": [
    "### Section 3.13: Rebounds Percentage - Home vs Away"
   ]
  },
  {
   "cell_type": "code",
   "execution_count": 124,
   "id": "e9e9f63e",
   "metadata": {},
   "outputs": [
    {
     "data": {
      "text/plain": [
       "Text(0.5, 1.0, 'Average Rebounds per Game Over Time in Years')"
      ]
     },
     "execution_count": 124,
     "metadata": {},
     "output_type": "execute_result"
    },
    {
     "data": {
      "image/png": "[encoded data removed]",
      "text/plain": [
       "<Figure size 432x288 with 1 Axes>"
      ]
     },
     "metadata": {
      "needs_background": "light"
     },
     "output_type": "display_data"
    }
   ],
   "source": [
    "df['home_mean'] = df.groupby('year').REB_home.transform(lambda s: s.mean())\n",
    "df['away_mean'] = df.groupby('year').REB_away.transform(lambda s: s.mean())\n",
    "plt.plot(df['year'], df['home_mean'], '.')\n",
    "plt.plot(df['year'], df['away_mean'], '^')\n",
    "plt.xlabel(\"Year\")\n",
    "plt.ylabel(\"Average Rebounds per Game in Points\")\n",
    "plt.title(\"Average Rebounds per Game Over Time in Years\")"
   ]
  },
  {
   "cell_type": "markdown",
   "id": "25af887b",
   "metadata": {},
   "source": [
    "Insert Analysis"
   ]
  },
  {
   "cell_type": "markdown",
   "id": "38be0010",
   "metadata": {},
   "source": [
    "# Part 3: Machine Learning Algorithm"
   ]
  },
  {
   "cell_type": "markdown",
   "id": "b15af100",
   "metadata": {},
   "source": [
    "# Part 4: Reflection and Conclusion"
   ]
  }
 ],
 "metadata": {
  "kernelspec": {
   "display_name": "Python 3",
   "language": "python",
   "name": "python3"
  },
  "language_info": {
   "codemirror_mode": {
    "name": "ipython",
    "version": 3
   },
   "file_extension": ".py",
   "mimetype": "text/x-python",
   "name": "python",
   "nbconvert_exporter": "python",
   "pygments_lexer": "ipython3",
   "version": "3.9.1"
  }
 },
 "nbformat": 4,
 "nbformat_minor": 5
}
